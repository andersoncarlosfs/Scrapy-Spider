{
 "cells": [
  {
   "cell_type": "markdown",
   "metadata": {},
   "source": [
    "# Epic"
   ]
  },
  {
   "cell_type": "markdown",
   "metadata": {},
   "source": [
    "As a mayor of Vanves, I want be able to know my citizens concerns, so I can review my government program. "
   ]
  },
  {
   "cell_type": "markdown",
   "metadata": {},
   "source": [
    "## Stories"
   ]
  },
  {
   "cell_type": "markdown",
   "metadata": {},
   "source": [
    "### Scraping Websites"
   ]
  },
  {
   "cell_type": "markdown",
   "metadata": {},
   "source": [
    "As information technology manager, I want to scrap webpages that mention Vanves, so I can analyse the popularity of Vanves."
   ]
  },
  {
   "cell_type": "markdown",
   "metadata": {},
   "source": [
    "#### Tasks"
   ]
  },
  {
   "cell_type": "markdown",
   "metadata": {},
   "source": [
    "- **Goal**: Retrieve webpages that contain Vanves and zero or one citizens concerns.\n",
    "- **Input**:\n",
    "    - List of start URLs.\n",
    "    - Zero or more list of citzens concerns.\n",
    "- **Output**:\n",
    "    - Texts that contain Vanves and zero or one citizens concerns.\n",
    "    - Lists of unexplored URLs.\n",
    "- **Tasks**:\n",
    "    - Extract and follow the URLs in a webpage that mentions Vanves and zero or one citizens concerns.\n",
    "    - Extract and persist the texts of a webpages that mentions Vanves and at zero or one citizens concerns.\n",
    "    - Explore *N* webpages of a same website.\n",
    "    - Explore webpages of a  list of allowed domains.\n",
    "    - Display the statistics of the execution:\n",
    "        - The time duration.\n",
    "        - The number of webpages that mention Vanves and zero or one citizens concerns.\n",
    "        - The number of webpages that do not mention Vanves and zero or one citizens concerns.\n",
    "        - The number of unexplored webpages.\n",
    "- **Assumptions**:\n",
    "    - The allowed domains are the domains of the start URLs"
   ]
  },
  {
   "cell_type": "code",
   "execution_count": null,
   "metadata": {},
   "outputs": [],
   "source": []
  }
 ],
 "metadata": {
  "kernelspec": {
   "display_name": "Python 2",
   "language": "python",
   "name": "python2"
  },
  "language_info": {
   "codemirror_mode": {
    "name": "ipython",
    "version": 2
   },
   "file_extension": ".py",
   "mimetype": "text/x-python",
   "name": "python",
   "nbconvert_exporter": "python",
   "pygments_lexer": "ipython2",
   "version": "2.7.15rc1"
  }
 },
 "nbformat": 4,
 "nbformat_minor": 2
}
